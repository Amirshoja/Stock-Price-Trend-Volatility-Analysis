{
 "cells": [
  {
   "cell_type": "code",
   "execution_count": 1,
   "metadata": {},
   "outputs": [],
   "source": [
    "import pandas as pd\n",
    "import altair as alt"
   ]
  },
  {
   "cell_type": "code",
   "execution_count": 2,
   "metadata": {},
   "outputs": [
    {
     "data": {
      "text/plain": [
       "RendererRegistry.enable('mimetype')"
      ]
     },
     "execution_count": 2,
     "metadata": {},
     "output_type": "execute_result"
    }
   ],
   "source": [
    "# Handle large data sets by not embedding them in the notebook\n",
    "alt.data_transformers.enable('data_server')\n",
    "\n",
    "# Save a PNG blob as a backup for when the Altair plots do not render\n",
    "alt.renderers.enable('mimetype')"
   ]
  },
  {
   "cell_type": "code",
   "execution_count": 3,
   "metadata": {},
   "outputs": [],
   "source": [
    "stock_price_trend_df = pd.read_csv('../data/prices_trends_merged_data.csv')"
   ]
  },
  {
   "cell_type": "code",
   "execution_count": 4,
   "metadata": {},
   "outputs": [
    {
     "data": {
      "text/html": [
       "<div>\n",
       "<style scoped>\n",
       "    .dataframe tbody tr th:only-of-type {\n",
       "        vertical-align: middle;\n",
       "    }\n",
       "\n",
       "    .dataframe tbody tr th {\n",
       "        vertical-align: top;\n",
       "    }\n",
       "\n",
       "    .dataframe thead th {\n",
       "        text-align: right;\n",
       "    }\n",
       "</style>\n",
       "<table border=\"1\" class=\"dataframe\">\n",
       "  <thead>\n",
       "    <tr style=\"text-align: right;\">\n",
       "      <th></th>\n",
       "      <th>week</th>\n",
       "      <th>weekly_interest</th>\n",
       "      <th>symbol</th>\n",
       "      <th>open</th>\n",
       "      <th>adj_close</th>\n",
       "    </tr>\n",
       "  </thead>\n",
       "  <tbody>\n",
       "    <tr>\n",
       "      <th>0</th>\n",
       "      <td>2020-07-05</td>\n",
       "      <td>40</td>\n",
       "      <td>FOX</td>\n",
       "      <td>26.940001</td>\n",
       "      <td>24.860155</td>\n",
       "    </tr>\n",
       "    <tr>\n",
       "      <th>1</th>\n",
       "      <td>2020-07-12</td>\n",
       "      <td>44</td>\n",
       "      <td>FOX</td>\n",
       "      <td>25.379999</td>\n",
       "      <td>24.732868</td>\n",
       "    </tr>\n",
       "    <tr>\n",
       "      <th>2</th>\n",
       "      <td>2020-07-19</td>\n",
       "      <td>44</td>\n",
       "      <td>FOX</td>\n",
       "      <td>25.080000</td>\n",
       "      <td>25.937201</td>\n",
       "    </tr>\n",
       "    <tr>\n",
       "      <th>3</th>\n",
       "      <td>2020-07-26</td>\n",
       "      <td>46</td>\n",
       "      <td>FOX</td>\n",
       "      <td>26.379999</td>\n",
       "      <td>25.232225</td>\n",
       "    </tr>\n",
       "    <tr>\n",
       "      <th>4</th>\n",
       "      <td>2020-08-02</td>\n",
       "      <td>45</td>\n",
       "      <td>FOX</td>\n",
       "      <td>25.870001</td>\n",
       "      <td>24.370590</td>\n",
       "    </tr>\n",
       "    <tr>\n",
       "      <th>...</th>\n",
       "      <td>...</td>\n",
       "      <td>...</td>\n",
       "      <td>...</td>\n",
       "      <td>...</td>\n",
       "      <td>...</td>\n",
       "    </tr>\n",
       "    <tr>\n",
       "      <th>17467</th>\n",
       "      <td>2021-05-30</td>\n",
       "      <td>55</td>\n",
       "      <td>BLK</td>\n",
       "      <td>887.900024</td>\n",
       "      <td>878.887817</td>\n",
       "    </tr>\n",
       "    <tr>\n",
       "      <th>17468</th>\n",
       "      <td>2021-06-06</td>\n",
       "      <td>79</td>\n",
       "      <td>BLK</td>\n",
       "      <td>888.659973</td>\n",
       "      <td>876.834106</td>\n",
       "    </tr>\n",
       "    <tr>\n",
       "      <th>17469</th>\n",
       "      <td>2021-06-13</td>\n",
       "      <td>42</td>\n",
       "      <td>BLK</td>\n",
       "      <td>881.000000</td>\n",
       "      <td>837.127441</td>\n",
       "    </tr>\n",
       "    <tr>\n",
       "      <th>17470</th>\n",
       "      <td>2021-06-20</td>\n",
       "      <td>67</td>\n",
       "      <td>BLK</td>\n",
       "      <td>849.000000</td>\n",
       "      <td>870.232971</td>\n",
       "    </tr>\n",
       "    <tr>\n",
       "      <th>17471</th>\n",
       "      <td>2021-06-27</td>\n",
       "      <td>80</td>\n",
       "      <td>BLK</td>\n",
       "      <td>875.969971</td>\n",
       "      <td>871.168823</td>\n",
       "    </tr>\n",
       "  </tbody>\n",
       "</table>\n",
       "<p>17472 rows × 5 columns</p>\n",
       "</div>"
      ],
      "text/plain": [
       "             week  weekly_interest symbol        open   adj_close\n",
       "0      2020-07-05               40    FOX   26.940001   24.860155\n",
       "1      2020-07-12               44    FOX   25.379999   24.732868\n",
       "2      2020-07-19               44    FOX   25.080000   25.937201\n",
       "3      2020-07-26               46    FOX   26.379999   25.232225\n",
       "4      2020-08-02               45    FOX   25.870001   24.370590\n",
       "...           ...              ...    ...         ...         ...\n",
       "17467  2021-05-30               55    BLK  887.900024  878.887817\n",
       "17468  2021-06-06               79    BLK  888.659973  876.834106\n",
       "17469  2021-06-13               42    BLK  881.000000  837.127441\n",
       "17470  2021-06-20               67    BLK  849.000000  870.232971\n",
       "17471  2021-06-27               80    BLK  875.969971  871.168823\n",
       "\n",
       "[17472 rows x 5 columns]"
      ]
     },
     "execution_count": 4,
     "metadata": {},
     "output_type": "execute_result"
    }
   ],
   "source": [
    "stock_price_trend_df"
   ]
  },
  {
   "cell_type": "code",
   "execution_count": 5,
   "metadata": {},
   "outputs": [
    {
     "data": {
      "text/html": [
       "<div>\n",
       "<style scoped>\n",
       "    .dataframe tbody tr th:only-of-type {\n",
       "        vertical-align: middle;\n",
       "    }\n",
       "\n",
       "    .dataframe tbody tr th {\n",
       "        vertical-align: top;\n",
       "    }\n",
       "\n",
       "    .dataframe thead th {\n",
       "        text-align: right;\n",
       "    }\n",
       "</style>\n",
       "<table border=\"1\" class=\"dataframe\">\n",
       "  <thead>\n",
       "    <tr style=\"text-align: right;\">\n",
       "      <th></th>\n",
       "      <th>week</th>\n",
       "      <th>weekly_interest</th>\n",
       "      <th>symbol</th>\n",
       "      <th>open</th>\n",
       "      <th>adj_close</th>\n",
       "      <th>price_change_pct</th>\n",
       "    </tr>\n",
       "  </thead>\n",
       "  <tbody>\n",
       "    <tr>\n",
       "      <th>0</th>\n",
       "      <td>2020-07-05</td>\n",
       "      <td>40</td>\n",
       "      <td>FOX</td>\n",
       "      <td>26.940001</td>\n",
       "      <td>24.860155</td>\n",
       "      <td>-0.077203</td>\n",
       "    </tr>\n",
       "    <tr>\n",
       "      <th>1</th>\n",
       "      <td>2020-07-12</td>\n",
       "      <td>44</td>\n",
       "      <td>FOX</td>\n",
       "      <td>25.379999</td>\n",
       "      <td>24.732868</td>\n",
       "      <td>-0.025498</td>\n",
       "    </tr>\n",
       "    <tr>\n",
       "      <th>2</th>\n",
       "      <td>2020-07-19</td>\n",
       "      <td>44</td>\n",
       "      <td>FOX</td>\n",
       "      <td>25.080000</td>\n",
       "      <td>25.937201</td>\n",
       "      <td>0.034179</td>\n",
       "    </tr>\n",
       "    <tr>\n",
       "      <th>3</th>\n",
       "      <td>2020-07-26</td>\n",
       "      <td>46</td>\n",
       "      <td>FOX</td>\n",
       "      <td>26.379999</td>\n",
       "      <td>25.232225</td>\n",
       "      <td>-0.043509</td>\n",
       "    </tr>\n",
       "    <tr>\n",
       "      <th>4</th>\n",
       "      <td>2020-08-02</td>\n",
       "      <td>45</td>\n",
       "      <td>FOX</td>\n",
       "      <td>25.870001</td>\n",
       "      <td>24.370590</td>\n",
       "      <td>-0.057959</td>\n",
       "    </tr>\n",
       "    <tr>\n",
       "      <th>...</th>\n",
       "      <td>...</td>\n",
       "      <td>...</td>\n",
       "      <td>...</td>\n",
       "      <td>...</td>\n",
       "      <td>...</td>\n",
       "      <td>...</td>\n",
       "    </tr>\n",
       "    <tr>\n",
       "      <th>17467</th>\n",
       "      <td>2021-05-30</td>\n",
       "      <td>55</td>\n",
       "      <td>BLK</td>\n",
       "      <td>887.900024</td>\n",
       "      <td>878.887817</td>\n",
       "      <td>-0.010150</td>\n",
       "    </tr>\n",
       "    <tr>\n",
       "      <th>17468</th>\n",
       "      <td>2021-06-06</td>\n",
       "      <td>79</td>\n",
       "      <td>BLK</td>\n",
       "      <td>888.659973</td>\n",
       "      <td>876.834106</td>\n",
       "      <td>-0.013308</td>\n",
       "    </tr>\n",
       "    <tr>\n",
       "      <th>17469</th>\n",
       "      <td>2021-06-13</td>\n",
       "      <td>42</td>\n",
       "      <td>BLK</td>\n",
       "      <td>881.000000</td>\n",
       "      <td>837.127441</td>\n",
       "      <td>-0.049799</td>\n",
       "    </tr>\n",
       "    <tr>\n",
       "      <th>17470</th>\n",
       "      <td>2021-06-20</td>\n",
       "      <td>67</td>\n",
       "      <td>BLK</td>\n",
       "      <td>849.000000</td>\n",
       "      <td>870.232971</td>\n",
       "      <td>0.025009</td>\n",
       "    </tr>\n",
       "    <tr>\n",
       "      <th>17471</th>\n",
       "      <td>2021-06-27</td>\n",
       "      <td>80</td>\n",
       "      <td>BLK</td>\n",
       "      <td>875.969971</td>\n",
       "      <td>871.168823</td>\n",
       "      <td>-0.005481</td>\n",
       "    </tr>\n",
       "  </tbody>\n",
       "</table>\n",
       "<p>17472 rows × 6 columns</p>\n",
       "</div>"
      ],
      "text/plain": [
       "             week  weekly_interest symbol        open   adj_close  \\\n",
       "0      2020-07-05               40    FOX   26.940001   24.860155   \n",
       "1      2020-07-12               44    FOX   25.379999   24.732868   \n",
       "2      2020-07-19               44    FOX   25.080000   25.937201   \n",
       "3      2020-07-26               46    FOX   26.379999   25.232225   \n",
       "4      2020-08-02               45    FOX   25.870001   24.370590   \n",
       "...           ...              ...    ...         ...         ...   \n",
       "17467  2021-05-30               55    BLK  887.900024  878.887817   \n",
       "17468  2021-06-06               79    BLK  888.659973  876.834106   \n",
       "17469  2021-06-13               42    BLK  881.000000  837.127441   \n",
       "17470  2021-06-20               67    BLK  849.000000  870.232971   \n",
       "17471  2021-06-27               80    BLK  875.969971  871.168823   \n",
       "\n",
       "       price_change_pct  \n",
       "0             -0.077203  \n",
       "1             -0.025498  \n",
       "2              0.034179  \n",
       "3             -0.043509  \n",
       "4             -0.057959  \n",
       "...                 ...  \n",
       "17467         -0.010150  \n",
       "17468         -0.013308  \n",
       "17469         -0.049799  \n",
       "17470          0.025009  \n",
       "17471         -0.005481  \n",
       "\n",
       "[17472 rows x 6 columns]"
      ]
     },
     "execution_count": 5,
     "metadata": {},
     "output_type": "execute_result"
    }
   ],
   "source": [
    "# Calculating the weekly price change as a percentage\n",
    "stock_price_trend_df['price_change_pct'] = (stock_price_trend_df['adj_close'] - stock_price_trend_df['open']) / stock_price_trend_df['open']\n",
    "stock_price_trend_df"
   ]
  },
  {
   "cell_type": "code",
   "execution_count": 6,
   "metadata": {},
   "outputs": [
    {
     "data": {
      "text/html": [
       "<div>\n",
       "<style scoped>\n",
       "    .dataframe tbody tr th:only-of-type {\n",
       "        vertical-align: middle;\n",
       "    }\n",
       "\n",
       "    .dataframe tbody tr th {\n",
       "        vertical-align: top;\n",
       "    }\n",
       "\n",
       "    .dataframe thead th {\n",
       "        text-align: right;\n",
       "    }\n",
       "</style>\n",
       "<table border=\"1\" class=\"dataframe\">\n",
       "  <thead>\n",
       "    <tr style=\"text-align: right;\">\n",
       "      <th></th>\n",
       "      <th>price_change_pct</th>\n",
       "    </tr>\n",
       "    <tr>\n",
       "      <th>symbol</th>\n",
       "      <th></th>\n",
       "    </tr>\n",
       "  </thead>\n",
       "  <tbody>\n",
       "    <tr>\n",
       "      <th>AAL</th>\n",
       "      <td>0.062810</td>\n",
       "    </tr>\n",
       "    <tr>\n",
       "      <th>AAP</th>\n",
       "      <td>0.037851</td>\n",
       "    </tr>\n",
       "    <tr>\n",
       "      <th>AAPL</th>\n",
       "      <td>0.041034</td>\n",
       "    </tr>\n",
       "    <tr>\n",
       "      <th>ABBV</th>\n",
       "      <td>0.030771</td>\n",
       "    </tr>\n",
       "    <tr>\n",
       "      <th>ABC</th>\n",
       "      <td>0.035948</td>\n",
       "    </tr>\n",
       "    <tr>\n",
       "      <th>...</th>\n",
       "      <td>...</td>\n",
       "    </tr>\n",
       "    <tr>\n",
       "      <th>T</th>\n",
       "      <td>0.030373</td>\n",
       "    </tr>\n",
       "    <tr>\n",
       "      <th>TAP</th>\n",
       "      <td>0.042804</td>\n",
       "    </tr>\n",
       "    <tr>\n",
       "      <th>TECH</th>\n",
       "      <td>0.047673</td>\n",
       "    </tr>\n",
       "    <tr>\n",
       "      <th>XOM</th>\n",
       "      <td>0.048730</td>\n",
       "    </tr>\n",
       "    <tr>\n",
       "      <th>XRAY</th>\n",
       "      <td>0.034906</td>\n",
       "    </tr>\n",
       "  </tbody>\n",
       "</table>\n",
       "<p>336 rows × 1 columns</p>\n",
       "</div>"
      ],
      "text/plain": [
       "        price_change_pct\n",
       "symbol                  \n",
       "AAL             0.062810\n",
       "AAP             0.037851\n",
       "AAPL            0.041034\n",
       "ABBV            0.030771\n",
       "ABC             0.035948\n",
       "...                  ...\n",
       "T               0.030373\n",
       "TAP             0.042804\n",
       "TECH            0.047673\n",
       "XOM             0.048730\n",
       "XRAY            0.034906\n",
       "\n",
       "[336 rows x 1 columns]"
      ]
     },
     "execution_count": 6,
     "metadata": {},
     "output_type": "execute_result"
    }
   ],
   "source": [
    "# Calculating the standard deviation of the price change percentage for each stock\n",
    "stock_price_stds = stock_price_trend_df.groupby('symbol').agg({'price_change_pct': 'std'})\n",
    "stock_price_stds"
   ]
  },
  {
   "cell_type": "code",
   "execution_count": 35,
   "metadata": {},
   "outputs": [],
   "source": [
    "# Plotting the standard deviations of the price change percentages for all stocks as a distribution\n",
    "plt_price_stds = alt.Chart(stock_price_stds, title='Distribution of Price Change Volatility').mark_bar().encode(\n",
    "    x=alt.X('price_change_pct', bin=alt.Bin(maxbins=100), title='Stock Price Weekly Percentage Change (StDev)'),\n",
    "    y=alt.Y('count()',\n",
    "            title='Count of Stocks'),\n",
    ")\n"
   ]
  },
  {
   "cell_type": "code",
   "execution_count": 36,
   "metadata": {},
   "outputs": [
    {
     "data": {
      "text/html": [
       "<div>\n",
       "<style scoped>\n",
       "    .dataframe tbody tr th:only-of-type {\n",
       "        vertical-align: middle;\n",
       "    }\n",
       "\n",
       "    .dataframe tbody tr th {\n",
       "        vertical-align: top;\n",
       "    }\n",
       "\n",
       "    .dataframe thead th {\n",
       "        text-align: right;\n",
       "    }\n",
       "</style>\n",
       "<table border=\"1\" class=\"dataframe\">\n",
       "  <thead>\n",
       "    <tr style=\"text-align: right;\">\n",
       "      <th></th>\n",
       "      <th>weekly_interest</th>\n",
       "    </tr>\n",
       "    <tr>\n",
       "      <th>symbol</th>\n",
       "      <th></th>\n",
       "    </tr>\n",
       "  </thead>\n",
       "  <tbody>\n",
       "    <tr>\n",
       "      <th>AAL</th>\n",
       "      <td>17.817017</td>\n",
       "    </tr>\n",
       "    <tr>\n",
       "      <th>AAP</th>\n",
       "      <td>16.372318</td>\n",
       "    </tr>\n",
       "    <tr>\n",
       "      <th>AAPL</th>\n",
       "      <td>15.370438</td>\n",
       "    </tr>\n",
       "    <tr>\n",
       "      <th>ABBV</th>\n",
       "      <td>17.497716</td>\n",
       "    </tr>\n",
       "    <tr>\n",
       "      <th>ABC</th>\n",
       "      <td>8.776082</td>\n",
       "    </tr>\n",
       "    <tr>\n",
       "      <th>...</th>\n",
       "      <td>...</td>\n",
       "    </tr>\n",
       "    <tr>\n",
       "      <th>T</th>\n",
       "      <td>5.656454</td>\n",
       "    </tr>\n",
       "    <tr>\n",
       "      <th>TAP</th>\n",
       "      <td>12.784367</td>\n",
       "    </tr>\n",
       "    <tr>\n",
       "      <th>TECH</th>\n",
       "      <td>10.329781</td>\n",
       "    </tr>\n",
       "    <tr>\n",
       "      <th>XOM</th>\n",
       "      <td>13.075183</td>\n",
       "    </tr>\n",
       "    <tr>\n",
       "      <th>XRAY</th>\n",
       "      <td>8.630224</td>\n",
       "    </tr>\n",
       "  </tbody>\n",
       "</table>\n",
       "<p>336 rows × 1 columns</p>\n",
       "</div>"
      ],
      "text/plain": [
       "        weekly_interest\n",
       "symbol                 \n",
       "AAL           17.817017\n",
       "AAP           16.372318\n",
       "AAPL          15.370438\n",
       "ABBV          17.497716\n",
       "ABC            8.776082\n",
       "...                 ...\n",
       "T              5.656454\n",
       "TAP           12.784367\n",
       "TECH          10.329781\n",
       "XOM           13.075183\n",
       "XRAY           8.630224\n",
       "\n",
       "[336 rows x 1 columns]"
      ]
     },
     "execution_count": 36,
     "metadata": {},
     "output_type": "execute_result"
    }
   ],
   "source": [
    "# Calculating the standard deviation of the weekly interest on google trends for each stock\n",
    "stock_trends_stds = stock_price_trend_df.groupby('symbol').agg({'weekly_interest': 'std'})\n",
    "stock_trends_stds"
   ]
  },
  {
   "cell_type": "code",
   "execution_count": 41,
   "metadata": {},
   "outputs": [],
   "source": [
    "# Plotting the standard deviations of the price change percentages for all stocks as a distribution\n",
    "plt_trends_stds = alt.Chart(stock_trends_stds,\n",
    "                            title='Distribution of Stock Interest Volatility').mark_bar().encode(\n",
    "    x=alt.X('weekly_interest',\n",
    "              bin=alt.Bin(maxbins=100),\n",
    "              title='Weekly Google Search Trend (StDev)'),\n",
    "    y=alt.Y('count()',\n",
    "              title='Count of Stocks'))\n"
   ]
  },
  {
   "cell_type": "code",
   "execution_count": 42,
   "metadata": {},
   "outputs": [
    {
     "data": {
      "application/vnd.vegalite.v4+json": {
       "$schema": "https://vega.github.io/schema/vega-lite/v4.8.1.json",
       "config": {
        "view": {
         "continuousHeight": 300,
         "continuousWidth": 400
        }
       },
       "hconcat": [
        {
         "data": {
          "url": "http://localhost:16012/cfd9292151c536179854830f2f8685de.json"
         },
         "encoding": {
          "x": {
           "bin": {
            "maxbins": 100
           },
           "field": "price_change_pct",
           "title": "Stock Price Weekly Percentage Change (StDev)",
           "type": "quantitative"
          },
          "y": {
           "aggregate": "count",
           "title": "Count of Stocks",
           "type": "quantitative"
          }
         },
         "mark": "bar",
         "title": "Distribution of Price Change Volatility"
        },
        {
         "data": {
          "url": "http://localhost:16012/e7f1ca97a5c96eb51d39d0b51342edef.json"
         },
         "encoding": {
          "x": {
           "bin": {
            "maxbins": 100
           },
           "field": "weekly_interest",
           "title": "Weekly Google Search Trend (StDev)",
           "type": "quantitative"
          },
          "y": {
           "aggregate": "count",
           "title": "Count of Stocks",
           "type": "quantitative"
          }
         },
         "mark": "bar",
         "title": "Distribution of Stock Interest Volatility"
        }
       ]
      },
      "image/png": "[encoded data removed]",
      "text/plain": [
       "<VegaLite 4 object>\n",
       "\n",
       "If you see this message, it means the renderer has not been properly enabled\n",
       "for the frontend that you are using. For more information, see\n",
       "https://altair-viz.github.io/user_guide/troubleshooting.html\n"
      ]
     },
     "execution_count": 42,
     "metadata": {},
     "output_type": "execute_result"
    }
   ],
   "source": [
    "plt_price_stds | plt_trends_stds"
   ]
  },
  {
   "cell_type": "code",
   "execution_count": 11,
   "metadata": {},
   "outputs": [
    {
     "data": {
      "text/html": [
       "<div>\n",
       "<style scoped>\n",
       "    .dataframe tbody tr th:only-of-type {\n",
       "        vertical-align: middle;\n",
       "    }\n",
       "\n",
       "    .dataframe tbody tr th {\n",
       "        vertical-align: top;\n",
       "    }\n",
       "\n",
       "    .dataframe thead th {\n",
       "        text-align: right;\n",
       "    }\n",
       "</style>\n",
       "<table border=\"1\" class=\"dataframe\">\n",
       "  <thead>\n",
       "    <tr style=\"text-align: right;\">\n",
       "      <th></th>\n",
       "      <th>weekly_interest</th>\n",
       "      <th>price_change_pct</th>\n",
       "    </tr>\n",
       "    <tr>\n",
       "      <th>symbol</th>\n",
       "      <th></th>\n",
       "      <th></th>\n",
       "    </tr>\n",
       "  </thead>\n",
       "  <tbody>\n",
       "    <tr>\n",
       "      <th>AAL</th>\n",
       "      <td>17.817017</td>\n",
       "      <td>0.062810</td>\n",
       "    </tr>\n",
       "    <tr>\n",
       "      <th>AAP</th>\n",
       "      <td>16.372318</td>\n",
       "      <td>0.037851</td>\n",
       "    </tr>\n",
       "    <tr>\n",
       "      <th>AAPL</th>\n",
       "      <td>15.370438</td>\n",
       "      <td>0.041034</td>\n",
       "    </tr>\n",
       "    <tr>\n",
       "      <th>ABBV</th>\n",
       "      <td>17.497716</td>\n",
       "      <td>0.030771</td>\n",
       "    </tr>\n",
       "    <tr>\n",
       "      <th>ABC</th>\n",
       "      <td>8.776082</td>\n",
       "      <td>0.035948</td>\n",
       "    </tr>\n",
       "    <tr>\n",
       "      <th>...</th>\n",
       "      <td>...</td>\n",
       "      <td>...</td>\n",
       "    </tr>\n",
       "    <tr>\n",
       "      <th>T</th>\n",
       "      <td>5.656454</td>\n",
       "      <td>0.030373</td>\n",
       "    </tr>\n",
       "    <tr>\n",
       "      <th>TAP</th>\n",
       "      <td>12.784367</td>\n",
       "      <td>0.042804</td>\n",
       "    </tr>\n",
       "    <tr>\n",
       "      <th>TECH</th>\n",
       "      <td>10.329781</td>\n",
       "      <td>0.047673</td>\n",
       "    </tr>\n",
       "    <tr>\n",
       "      <th>XOM</th>\n",
       "      <td>13.075183</td>\n",
       "      <td>0.048730</td>\n",
       "    </tr>\n",
       "    <tr>\n",
       "      <th>XRAY</th>\n",
       "      <td>8.630224</td>\n",
       "      <td>0.034906</td>\n",
       "    </tr>\n",
       "  </tbody>\n",
       "</table>\n",
       "<p>336 rows × 2 columns</p>\n",
       "</div>"
      ],
      "text/plain": [
       "        weekly_interest  price_change_pct\n",
       "symbol                                   \n",
       "AAL           17.817017          0.062810\n",
       "AAP           16.372318          0.037851\n",
       "AAPL          15.370438          0.041034\n",
       "ABBV          17.497716          0.030771\n",
       "ABC            8.776082          0.035948\n",
       "...                 ...               ...\n",
       "T              5.656454          0.030373\n",
       "TAP           12.784367          0.042804\n",
       "TECH          10.329781          0.047673\n",
       "XOM           13.075183          0.048730\n",
       "XRAY           8.630224          0.034906\n",
       "\n",
       "[336 rows x 2 columns]"
      ]
     },
     "execution_count": 11,
     "metadata": {},
     "output_type": "execute_result"
    }
   ],
   "source": [
    "# Calculating the standard deviation of the weekly interest on google trends and price change percentage for each stock\n",
    "stock_trends_prices_stds = stock_price_trend_df.groupby('symbol').agg({'weekly_interest': 'std', 'price_change_pct': 'std'})\n",
    "stock_trends_prices_stds"
   ]
  },
  {
   "cell_type": "code",
   "execution_count": 46,
   "metadata": {},
   "outputs": [
    {
     "data": {
      "application/vnd.vegalite.v4+json": {
       "$schema": "https://vega.github.io/schema/vega-lite/v4.8.1.json",
       "config": {
        "view": {
         "continuousHeight": 300,
         "continuousWidth": 400
        }
       },
       "data": {
        "url": "http://localhost:16012/617edfc4cb131d1a6d82b6cfb28ece53.json"
       },
       "layer": [
        {
         "encoding": {
          "x": {
           "field": "weekly_interest",
           "title": "Weekly Interest on Google Trends(Standard Deviations)",
           "type": "quantitative"
          },
          "y": {
           "field": "price_change_pct",
           "title": "Stock Price Percentage Change(Standard Deviations)",
           "type": "quantitative"
          }
         },
         "mark": {
          "color": "gray",
          "opacity": 0.4,
          "type": "point"
         }
        },
        {
         "encoding": {
          "x": {
           "field": "weekly_interest",
           "title": "Weekly Interest on Google Trends(Standard Deviations)",
           "type": "quantitative"
          },
          "y": {
           "field": "price_change_pct",
           "title": "Stock Price Percentage Change(Standard Deviations)",
           "type": "quantitative"
          }
         },
         "mark": "line",
         "transform": [
          {
           "on": "weekly_interest",
           "regression": "price_change_pct"
          }
         ]
        }
       ]
      },
      "image/png": "[encoded data removed]",
      "text/plain": [
       "<VegaLite 4 object>\n",
       "\n",
       "If you see this message, it means the renderer has not been properly enabled\n",
       "for the frontend that you are using. For more information, see\n",
       "https://altair-viz.github.io/user_guide/troubleshooting.html\n"
      ]
     },
     "execution_count": 46,
     "metadata": {},
     "output_type": "execute_result"
    }
   ],
   "source": [
    "plt_trends_prices_stds = alt.Chart(stock_trends_prices_stds).mark_point(opacity=0.4, color='gray').encode(\n",
    "    x=alt.X('weekly_interest', title='Weekly Interest on Google Trends(Standard Deviations)'),\n",
    "    y=alt.Y('price_change_pct', title='Stock Price Percentage Change(Standard Deviations)')\n",
    ")\n",
    "\n",
    "# plt_trends_prices_stds + plt_trends_prices_stds.transform_loess('weekly_interest', 'price_change_pct', bandwidth=0.8).mark_line(size=3)\n",
    "plt_trends_prices_stds + plt_trends_prices_stds.transform_regression('weekly_interest', 'price_change_pct').mark_line()"
   ]
  },
  {
   "cell_type": "code",
   "execution_count": null,
   "metadata": {},
   "outputs": [],
   "source": []
  }
 ],
 "metadata": {
  "interpreter": {
   "hash": "e1bca2da5da44632db353febc0806019353bc60e768056cb6cd8d188451e9f7f"
  },
  "kernelspec": {
   "display_name": "Python [conda env:531]",
   "language": "python",
   "name": "conda-env-531-py"
  },
  "language_info": {
   "codemirror_mode": {
    "name": "ipython",
    "version": 3
   },
   "file_extension": ".py",
   "mimetype": "text/x-python",
   "name": "python",
   "nbconvert_exporter": "python",
   "pygments_lexer": "ipython3",
   "version": "3.9.7"
  }
 },
 "nbformat": 4,
 "nbformat_minor": 4
}
